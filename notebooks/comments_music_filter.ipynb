{
 "cells": [
  {
   "cell_type": "code",
   "execution_count": 1,
   "id": "1b670a5a",
   "metadata": {},
   "outputs": [],
   "source": [
    "import pandas as pd\n",
    "import numpy as np"
   ]
  },
  {
   "cell_type": "markdown",
   "id": "390d2207",
   "metadata": {},
   "source": [
    "# Load Data"
   ]
  },
  {
   "cell_type": "code",
   "execution_count": 2,
   "id": "a1d6dc47",
   "metadata": {},
   "outputs": [],
   "source": [
    "data_d = '/scratch/gpfs/ij9216/projects/data/misc/youNiverse/data'\n",
    "df_sb_f = pd.read_csv(f\"{data_d}/_raw_df_timeseries.tsv.gz\", compression=\"infer\", sep=\"\\t\")\n",
    "df_ch_f = pd.read_csv(f\"{data_d}/_raw_df_channels.tsv.gz\", compression=\"infer\", sep=\"\\t\")\n",
    "df_vd_f = pd.read_feather(f\"{data_d}/yt_metadata_helper.feather\")\n",
    "# df_sb_f = pd.read_csv(f\"{data_d}/_raw_df_timeseries.tsv.gz\", compression=\"infer\", sep=\"\\t\")\n",
    "df_ch_f_en = pd.read_csv(f\"{data_d}/df_channels_en.tsv.gz\", compression=\"infer\", sep=\"\\t\")\n",
    "\n",
    "df_vd_f[\"dummmy\"] = 1\n",
    "df_sb_f[\"datetime\"] = pd.to_datetime(df_sb_f[\"datetime\"])\n",
    "df_ch_f[\"join_date\"] = pd.to_datetime(df_ch_f[\"join_date\"])\n",
    "num_comments = pd.read_csv(f\"{data_d}/num_comments.tsv.gz\", compression=\"infer\", sep=\"\\t\")\n",
    "num_comments_authors = pd.read_csv(f\"{data_d}/num_comments_authors.tsv.gz\", compression=\"infer\", \n",
    "                                   sep=\"\\t\")"
   ]
  },
  {
   "cell_type": "code",
   "execution_count": null,
   "id": "e537b2a1",
   "metadata": {},
   "outputs": [
    {
     "name": "stdout",
     "output_type": "stream",
     "text": [
      "shapes before filtering: (21553648, 10), (156977, 7), (72924794, 9)\n",
      "shapes after filtering: (4211778, 10), (29166, 7), (8305003, 9)\n"
     ]
    }
   ],
   "source": [
    "# notes: display_id is video id. (in df_vd_f and num_comments)\n",
    "# categories is always there, can filter inplace\n",
    "# vid count per channel: df_ch_f['videos_cc']\n",
    "\n",
    "# filtering - only keep music\n",
    "\n",
    "print(f'shapes before filtering: {df_sb_f.shape}, {df_ch_f.shape}, {df_vd_f.shape}')\n",
    "df_sb_f = df_sb_f[df_sb_f['category'] == 'Music']\n",
    "df_ch_f = df_ch_f[df_ch_f['category_cc'] == 'Music']\n",
    "df_vd_f = df_vd_f[df_vd_f['categories'] == 'Music']\n",
    "print(f'shapes after filtering: {df_sb_f.shape}, {df_ch_f.shape}, {df_vd_f.shape}')"
   ]
  },
  {
   "cell_type": "markdown",
   "id": "24a77c2a",
   "metadata": {},
   "source": [
    "## All columns in all dfs:\n",
    "- Timeseries (df_sb_f): ['channel', 'category', 'datetime', 'views', 'delta_views', 'subs', 'delta_subs', 'videos', 'delta_videos', 'activity']\n",
    "- Channels (df_ch_f): ['category_cc', 'join_date', 'channel', 'name_cc', 'subscribers_cc', 'videos_cc', 'subscriber_rank_sb', 'videos_yt']\n",
    "- Videos (df_vd_f): ['categories', 'channel_id', 'dislike_count', 'display_id', 'duration','like_count', 'upload_date', 'view_count', 'dummmy']\n",
    "- Comments (num_comments): ['display_id', 'num_comms']\n",
    "- Comment authors (num_comments_authors): ['author', 'video_id']"
   ]
  },
  {
   "cell_type": "code",
   "execution_count": 14,
   "id": "ea83b2e5",
   "metadata": {},
   "outputs": [
    {
     "name": "stdout",
     "output_type": "stream",
     "text": [
      "shape num_comments before filtering: (72924794, 2)\n",
      "shape num_comments after filtering: (8305003, 2)\n"
     ]
    }
   ],
   "source": [
    "# filter comments: num_comments drop rows where display_id is not in df_vd_f\n",
    "print(f'shape num_comments before filtering: {num_comments.shape}')\n",
    "num_comments = num_comments[num_comments['display_id'].isin(df_vd_f['display_id'])]\n",
    "print(f'shape num_comments after filtering: {num_comments.shape}')"
   ]
  },
  {
   "cell_type": "code",
   "execution_count": 15,
   "id": "a098d048",
   "metadata": {},
   "outputs": [],
   "source": [
    "# Save music only data\n",
    "df_sb_f.to_csv(f\"{data_d}/df_timeseries_music.tsv.gz\", compression=\"infer\", sep=\"\\t\", index=False)\n",
    "df_ch_f.to_csv(f\"{data_d}/df_channels_music.tsv.gz\", compression=\"infer\", sep=\"\\t\", index=False)\n",
    "df_vd_f.to_feather(f\"{data_d}/yt_metadata_helper_music.feather\")\n",
    "num_comments.to_csv(f\"{data_d}/num_comments_music.tsv.gz\", compression=\"infer\", sep=\"\\t\", index=False)\n"
   ]
  },
  {
   "cell_type": "code",
   "execution_count": null,
   "id": "85499fbe",
   "metadata": {},
   "outputs": [],
   "source": []
  }
 ],
 "metadata": {
  "kernelspec": {
   "display_name": "env-sentence",
   "language": "python",
   "name": "python3"
  },
  "language_info": {
   "codemirror_mode": {
    "name": "ipython",
    "version": 3
   },
   "file_extension": ".py",
   "mimetype": "text/x-python",
   "name": "python",
   "nbconvert_exporter": "python",
   "pygments_lexer": "ipython3",
   "version": "3.10.14"
  }
 },
 "nbformat": 4,
 "nbformat_minor": 5
}
